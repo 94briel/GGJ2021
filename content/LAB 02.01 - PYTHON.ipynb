{
  "nbformat": 4,
  "nbformat_minor": 0,
  "metadata": {
    "kernelspec": {
      "display_name": "Python 3",
      "language": "python",
      "name": "python3"
    },
    "language_info": {
      "codemirror_mode": {
        "name": "ipython",
        "version": 3
      },
      "file_extension": ".py",
      "mimetype": "text/x-python",
      "name": "python",
      "nbconvert_exporter": "python",
      "pygments_lexer": "ipython3",
      "version": "3.7.3"
    },
    "colab": {
      "name": "LAB 02.01 - PYTHON.ipynb",
      "provenance": [],
      "include_colab_link": true
    },
    "widgets": {
      "application/vnd.jupyter.widget-state+json": {
        "17361548a36f4c8aafb61e24b379e2de": {
          "model_module": "@jupyter-widgets/controls",
          "model_name": "HBoxModel",
          "model_module_version": "1.5.0",
          "state": {
            "_view_name": "HBoxView",
            "_dom_classes": [],
            "_model_name": "HBoxModel",
            "_view_module": "@jupyter-widgets/controls",
            "_model_module_version": "1.5.0",
            "_view_count": null,
            "_view_module_version": "1.5.0",
            "box_style": "",
            "layout": "IPY_MODEL_9d55cd3998994d9cb4ca4b0a695a0a40",
            "_model_module": "@jupyter-widgets/controls",
            "children": [
              "IPY_MODEL_a22c140fbc374850ab684dbaa53e15cc",
              "IPY_MODEL_1b077294060d4273a1b5a74382f971ec",
              "IPY_MODEL_128c8665fdbe4209aa363b633bcc88a4",
              "IPY_MODEL_a907a3095500462f81942894eeeb338f"
            ]
          }
        },
        "9d55cd3998994d9cb4ca4b0a695a0a40": {
          "model_module": "@jupyter-widgets/base",
          "model_name": "LayoutModel",
          "model_module_version": "1.2.0",
          "state": {
            "_view_name": "LayoutView",
            "grid_template_rows": null,
            "right": null,
            "justify_content": null,
            "_view_module": "@jupyter-widgets/base",
            "overflow": null,
            "_model_module_version": "1.2.0",
            "_view_count": null,
            "flex_flow": null,
            "width": null,
            "min_width": null,
            "border": null,
            "align_items": null,
            "bottom": null,
            "_model_module": "@jupyter-widgets/base",
            "top": null,
            "grid_column": null,
            "overflow_y": null,
            "overflow_x": null,
            "grid_auto_flow": null,
            "grid_area": null,
            "grid_template_columns": null,
            "flex": null,
            "_model_name": "LayoutModel",
            "justify_items": null,
            "grid_row": null,
            "max_height": null,
            "align_content": null,
            "visibility": null,
            "align_self": null,
            "height": null,
            "min_height": null,
            "padding": null,
            "grid_auto_rows": null,
            "grid_gap": null,
            "max_width": null,
            "order": null,
            "_view_module_version": "1.2.0",
            "grid_template_areas": null,
            "object_position": null,
            "object_fit": null,
            "grid_auto_columns": null,
            "margin": null,
            "display": null,
            "left": null
          }
        },
        "a22c140fbc374850ab684dbaa53e15cc": {
          "model_module": "@jupyter-widgets/controls",
          "model_name": "VBoxModel",
          "model_module_version": "1.5.0",
          "state": {
            "_view_name": "VBoxView",
            "_dom_classes": [],
            "_model_name": "VBoxModel",
            "_view_module": "@jupyter-widgets/controls",
            "_model_module_version": "1.5.0",
            "_view_count": null,
            "_view_module_version": "1.5.0",
            "box_style": "",
            "layout": "IPY_MODEL_a6939b684e26426aa7028fa7b9c023c7",
            "_model_module": "@jupyter-widgets/controls",
            "children": [
              "IPY_MODEL_186a62e5b11b4b3e9384f6e0320c041e",
              "IPY_MODEL_d32d306fe2bf42bdaf588df07c0eab26"
            ]
          }
        },
        "1b077294060d4273a1b5a74382f971ec": {
          "model_module": "@jupyter-widgets/controls",
          "model_name": "ButtonModel",
          "model_module_version": "1.5.0",
          "state": {
            "_view_name": "ButtonView",
            "style": "IPY_MODEL_1e3577d2403e4c1fa47996c5206c6afa",
            "_dom_classes": [
              "login_button"
            ],
            "description": "Login with email",
            "_model_name": "ButtonModel",
            "button_style": "",
            "_view_module": "@jupyter-widgets/controls",
            "_model_module_version": "1.5.0",
            "tooltip": "",
            "_view_count": null,
            "disabled": false,
            "_view_module_version": "1.5.0",
            "layout": "IPY_MODEL_faa77ccb3ffc4fab9b981982a1c9a28e",
            "_model_module": "@jupyter-widgets/controls",
            "icon": ""
          }
        },
        "128c8665fdbe4209aa363b633bcc88a4": {
          "model_module": "@jupyter-widgets/controls",
          "model_name": "HTMLModel",
          "model_module_version": "1.5.0",
          "state": {
            "_view_name": "HTMLView",
            "style": "IPY_MODEL_eb2ab7f2aeb347e2a832f0c3d9071d6a",
            "_dom_classes": [],
            "description": "",
            "_model_name": "HTMLModel",
            "placeholder": "​",
            "_view_module": "@jupyter-widgets/controls",
            "_model_module_version": "1.5.0",
            "value": "<center><big>or</big></center>",
            "_view_count": null,
            "_view_module_version": "1.5.0",
            "description_tooltip": null,
            "_model_module": "@jupyter-widgets/controls",
            "layout": "IPY_MODEL_7b69556fa727438d93ed43ed22a31ce4"
          }
        },
        "a907a3095500462f81942894eeeb338f": {
          "model_module": "@jupyter-widgets/controls",
          "model_name": "ButtonModel",
          "model_module_version": "1.5.0",
          "state": {
            "_view_name": "ButtonView",
            "style": "IPY_MODEL_1dff21949c0b4718b62afa1b9d7311a1",
            "_dom_classes": [
              "google_button"
            ],
            "description": "Login with Google",
            "_model_name": "ButtonModel",
            "button_style": "",
            "_view_module": "@jupyter-widgets/controls",
            "_model_module_version": "1.5.0",
            "tooltip": "",
            "_view_count": null,
            "disabled": false,
            "_view_module_version": "1.5.0",
            "layout": "IPY_MODEL_73e6e51aa85846b4b155203e9a7dc310",
            "_model_module": "@jupyter-widgets/controls",
            "icon": ""
          }
        },
        "a6939b684e26426aa7028fa7b9c023c7": {
          "model_module": "@jupyter-widgets/base",
          "model_name": "LayoutModel",
          "model_module_version": "1.2.0",
          "state": {
            "_view_name": "LayoutView",
            "grid_template_rows": null,
            "right": null,
            "justify_content": null,
            "_view_module": "@jupyter-widgets/base",
            "overflow": null,
            "_model_module_version": "1.2.0",
            "_view_count": null,
            "flex_flow": null,
            "width": null,
            "min_width": null,
            "border": null,
            "align_items": null,
            "bottom": null,
            "_model_module": "@jupyter-widgets/base",
            "top": null,
            "grid_column": null,
            "overflow_y": null,
            "overflow_x": null,
            "grid_auto_flow": null,
            "grid_area": null,
            "grid_template_columns": null,
            "flex": null,
            "_model_name": "LayoutModel",
            "justify_items": null,
            "grid_row": null,
            "max_height": null,
            "align_content": null,
            "visibility": null,
            "align_self": null,
            "height": null,
            "min_height": null,
            "padding": null,
            "grid_auto_rows": null,
            "grid_gap": null,
            "max_width": null,
            "order": null,
            "_view_module_version": "1.2.0",
            "grid_template_areas": null,
            "object_position": null,
            "object_fit": null,
            "grid_auto_columns": null,
            "margin": null,
            "display": null,
            "left": null
          }
        },
        "186a62e5b11b4b3e9384f6e0320c041e": {
          "model_module": "@jupyter-widgets/controls",
          "model_name": "TextModel",
          "model_module_version": "1.5.0",
          "state": {
            "_view_name": "TextView",
            "style": "IPY_MODEL_1a7a6993ddf04b6cab978abd16008cd3",
            "_dom_classes": [],
            "description": "email",
            "_model_name": "TextModel",
            "placeholder": "​",
            "_view_module": "@jupyter-widgets/controls",
            "_model_module_version": "1.5.0",
            "value": "",
            "_view_count": null,
            "disabled": false,
            "_view_module_version": "1.5.0",
            "continuous_update": true,
            "description_tooltip": null,
            "_model_module": "@jupyter-widgets/controls",
            "layout": "IPY_MODEL_c8155cf1c132494980eee097a9a66fe3"
          }
        },
        "d32d306fe2bf42bdaf588df07c0eab26": {
          "model_module": "@jupyter-widgets/controls",
          "model_name": "PasswordModel",
          "model_module_version": "1.5.0",
          "state": {
            "_view_name": "PasswordView",
            "style": "IPY_MODEL_9fc473414d484e8aa32f06d1da20c913",
            "_dom_classes": [],
            "description": "password",
            "_model_name": "PasswordModel",
            "placeholder": "​",
            "_view_module": "@jupyter-widgets/controls",
            "_model_module_version": "1.5.0",
            "value": "",
            "_view_count": null,
            "disabled": false,
            "_view_module_version": "1.5.0",
            "continuous_update": true,
            "description_tooltip": null,
            "_model_module": "@jupyter-widgets/controls",
            "layout": "IPY_MODEL_27a1e190d12c4f28abb2ee50e048f5b9"
          }
        },
        "1e3577d2403e4c1fa47996c5206c6afa": {
          "model_module": "@jupyter-widgets/controls",
          "model_name": "ButtonStyleModel",
          "model_module_version": "1.5.0",
          "state": {
            "_view_name": "StyleView",
            "_model_name": "ButtonStyleModel",
            "_view_module": "@jupyter-widgets/base",
            "_model_module_version": "1.5.0",
            "_view_count": null,
            "button_color": null,
            "font_weight": "",
            "_view_module_version": "1.2.0",
            "_model_module": "@jupyter-widgets/controls"
          }
        },
        "faa77ccb3ffc4fab9b981982a1c9a28e": {
          "model_module": "@jupyter-widgets/base",
          "model_name": "LayoutModel",
          "model_module_version": "1.2.0",
          "state": {
            "_view_name": "LayoutView",
            "grid_template_rows": null,
            "right": null,
            "justify_content": null,
            "_view_module": "@jupyter-widgets/base",
            "overflow": null,
            "_model_module_version": "1.2.0",
            "_view_count": null,
            "flex_flow": null,
            "width": "150px",
            "min_width": null,
            "border": null,
            "align_items": null,
            "bottom": null,
            "_model_module": "@jupyter-widgets/base",
            "top": null,
            "grid_column": null,
            "overflow_y": null,
            "overflow_x": null,
            "grid_auto_flow": null,
            "grid_area": null,
            "grid_template_columns": null,
            "flex": null,
            "_model_name": "LayoutModel",
            "justify_items": null,
            "grid_row": null,
            "max_height": null,
            "align_content": null,
            "visibility": null,
            "align_self": null,
            "height": "53px",
            "min_height": null,
            "padding": null,
            "grid_auto_rows": null,
            "grid_gap": null,
            "max_width": null,
            "order": null,
            "_view_module_version": "1.2.0",
            "grid_template_areas": null,
            "object_position": null,
            "object_fit": null,
            "grid_auto_columns": null,
            "margin": null,
            "display": null,
            "left": null
          }
        },
        "eb2ab7f2aeb347e2a832f0c3d9071d6a": {
          "model_module": "@jupyter-widgets/controls",
          "model_name": "DescriptionStyleModel",
          "model_module_version": "1.5.0",
          "state": {
            "_view_name": "StyleView",
            "_model_name": "DescriptionStyleModel",
            "description_width": "",
            "_view_module": "@jupyter-widgets/base",
            "_model_module_version": "1.5.0",
            "_view_count": null,
            "_view_module_version": "1.2.0",
            "_model_module": "@jupyter-widgets/controls"
          }
        },
        "7b69556fa727438d93ed43ed22a31ce4": {
          "model_module": "@jupyter-widgets/base",
          "model_name": "LayoutModel",
          "model_module_version": "1.2.0",
          "state": {
            "_view_name": "LayoutView",
            "grid_template_rows": null,
            "right": null,
            "justify_content": null,
            "_view_module": "@jupyter-widgets/base",
            "overflow": null,
            "_model_module_version": "1.2.0",
            "_view_count": null,
            "flex_flow": null,
            "width": "100px",
            "min_width": null,
            "border": null,
            "align_items": null,
            "bottom": null,
            "_model_module": "@jupyter-widgets/base",
            "top": null,
            "grid_column": null,
            "overflow_y": null,
            "overflow_x": null,
            "grid_auto_flow": null,
            "grid_area": null,
            "grid_template_columns": null,
            "flex": null,
            "_model_name": "LayoutModel",
            "justify_items": null,
            "grid_row": null,
            "max_height": null,
            "align_content": null,
            "visibility": null,
            "align_self": null,
            "height": null,
            "min_height": null,
            "padding": null,
            "grid_auto_rows": null,
            "grid_gap": null,
            "max_width": null,
            "order": null,
            "_view_module_version": "1.2.0",
            "grid_template_areas": null,
            "object_position": null,
            "object_fit": null,
            "grid_auto_columns": null,
            "margin": null,
            "display": null,
            "left": null
          }
        },
        "1dff21949c0b4718b62afa1b9d7311a1": {
          "model_module": "@jupyter-widgets/controls",
          "model_name": "ButtonStyleModel",
          "model_module_version": "1.5.0",
          "state": {
            "_view_name": "StyleView",
            "_model_name": "ButtonStyleModel",
            "_view_module": "@jupyter-widgets/base",
            "_model_module_version": "1.5.0",
            "_view_count": null,
            "button_color": null,
            "font_weight": "",
            "_view_module_version": "1.2.0",
            "_model_module": "@jupyter-widgets/controls"
          }
        },
        "73e6e51aa85846b4b155203e9a7dc310": {
          "model_module": "@jupyter-widgets/base",
          "model_name": "LayoutModel",
          "model_module_version": "1.2.0",
          "state": {
            "_view_name": "LayoutView",
            "grid_template_rows": null,
            "right": null,
            "justify_content": null,
            "_view_module": "@jupyter-widgets/base",
            "overflow": null,
            "_model_module_version": "1.2.0",
            "_view_count": null,
            "flex_flow": null,
            "width": "200px",
            "min_width": null,
            "border": null,
            "align_items": null,
            "bottom": null,
            "_model_module": "@jupyter-widgets/base",
            "top": null,
            "grid_column": null,
            "overflow_y": null,
            "overflow_x": null,
            "grid_auto_flow": null,
            "grid_area": null,
            "grid_template_columns": null,
            "flex": null,
            "_model_name": "LayoutModel",
            "justify_items": null,
            "grid_row": null,
            "max_height": null,
            "align_content": null,
            "visibility": null,
            "align_self": null,
            "height": "53px",
            "min_height": null,
            "padding": null,
            "grid_auto_rows": null,
            "grid_gap": null,
            "max_width": null,
            "order": null,
            "_view_module_version": "1.2.0",
            "grid_template_areas": null,
            "object_position": null,
            "object_fit": null,
            "grid_auto_columns": null,
            "margin": null,
            "display": null,
            "left": null
          }
        },
        "1a7a6993ddf04b6cab978abd16008cd3": {
          "model_module": "@jupyter-widgets/controls",
          "model_name": "DescriptionStyleModel",
          "model_module_version": "1.5.0",
          "state": {
            "_view_name": "StyleView",
            "_model_name": "DescriptionStyleModel",
            "description_width": "",
            "_view_module": "@jupyter-widgets/base",
            "_model_module_version": "1.5.0",
            "_view_count": null,
            "_view_module_version": "1.2.0",
            "_model_module": "@jupyter-widgets/controls"
          }
        },
        "c8155cf1c132494980eee097a9a66fe3": {
          "model_module": "@jupyter-widgets/base",
          "model_name": "LayoutModel",
          "model_module_version": "1.2.0",
          "state": {
            "_view_name": "LayoutView",
            "grid_template_rows": null,
            "right": null,
            "justify_content": null,
            "_view_module": "@jupyter-widgets/base",
            "overflow": null,
            "_model_module_version": "1.2.0",
            "_view_count": null,
            "flex_flow": null,
            "width": "300px",
            "min_width": null,
            "border": null,
            "align_items": null,
            "bottom": null,
            "_model_module": "@jupyter-widgets/base",
            "top": null,
            "grid_column": null,
            "overflow_y": null,
            "overflow_x": null,
            "grid_auto_flow": null,
            "grid_area": null,
            "grid_template_columns": null,
            "flex": null,
            "_model_name": "LayoutModel",
            "justify_items": null,
            "grid_row": null,
            "max_height": null,
            "align_content": null,
            "visibility": null,
            "align_self": null,
            "height": "25px",
            "min_height": null,
            "padding": null,
            "grid_auto_rows": null,
            "grid_gap": null,
            "max_width": null,
            "order": null,
            "_view_module_version": "1.2.0",
            "grid_template_areas": null,
            "object_position": null,
            "object_fit": null,
            "grid_auto_columns": null,
            "margin": null,
            "display": null,
            "left": null
          }
        },
        "9fc473414d484e8aa32f06d1da20c913": {
          "model_module": "@jupyter-widgets/controls",
          "model_name": "DescriptionStyleModel",
          "model_module_version": "1.5.0",
          "state": {
            "_view_name": "StyleView",
            "_model_name": "DescriptionStyleModel",
            "description_width": "",
            "_view_module": "@jupyter-widgets/base",
            "_model_module_version": "1.5.0",
            "_view_count": null,
            "_view_module_version": "1.2.0",
            "_model_module": "@jupyter-widgets/controls"
          }
        },
        "27a1e190d12c4f28abb2ee50e048f5b9": {
          "model_module": "@jupyter-widgets/base",
          "model_name": "LayoutModel",
          "model_module_version": "1.2.0",
          "state": {
            "_view_name": "LayoutView",
            "grid_template_rows": null,
            "right": null,
            "justify_content": null,
            "_view_module": "@jupyter-widgets/base",
            "overflow": null,
            "_model_module_version": "1.2.0",
            "_view_count": null,
            "flex_flow": null,
            "width": "300px",
            "min_width": null,
            "border": null,
            "align_items": null,
            "bottom": null,
            "_model_module": "@jupyter-widgets/base",
            "top": null,
            "grid_column": null,
            "overflow_y": null,
            "overflow_x": null,
            "grid_auto_flow": null,
            "grid_area": null,
            "grid_template_columns": null,
            "flex": null,
            "_model_name": "LayoutModel",
            "justify_items": null,
            "grid_row": null,
            "max_height": null,
            "align_content": null,
            "visibility": null,
            "align_self": null,
            "height": "24px",
            "min_height": null,
            "padding": null,
            "grid_auto_rows": null,
            "grid_gap": null,
            "max_width": null,
            "order": null,
            "_view_module_version": "1.2.0",
            "grid_template_areas": null,
            "object_position": null,
            "object_fit": null,
            "grid_auto_columns": null,
            "margin": null,
            "display": null,
            "left": null
          }
        }
      }
    }
  },
  "cells": [
    {
      "cell_type": "markdown",
      "metadata": {
        "id": "view-in-github",
        "colab_type": "text"
      },
      "source": [
        "<a href=\"https://colab.research.google.com/github/94briel/GGJ2021/blob/main/content/LAB%2002.01%20-%20PYTHON.ipynb\" target=\"_parent\"><img src=\"https://colab.research.google.com/assets/colab-badge.svg\" alt=\"Open In Colab\"/></a>"
      ]
    },
    {
      "cell_type": "markdown",
      "metadata": {
        "id": "xcjxOK2Sv4Ha"
      },
      "source": [
        "# LAB 02.01 - Python"
      ]
    },
    {
      "cell_type": "code",
      "metadata": {
        "id": "pVmbbJ8Dv4Hc",
        "outputId": "c70e0dbd-66bd-4bb1-9f04-5b9d444820bc",
        "colab": {
          "base_uri": "https://localhost:8080/",
          "height": 57
        }
      },
      "source": [
        "!wget --no-cache -O init.py -q https://raw.githubusercontent.com/rramosp/ai4eng.v1.20211.udea/main/content/init.py\n",
        "import init; init.init(force_download=False); init.get_weblink()\n"
      ],
      "execution_count": 44,
      "outputs": [
        {
          "output_type": "display_data",
          "data": {
            "text/html": [
              "\n",
              "<meta name=\"google-signin-client_id\"\n",
              "      content=\"461673936472-kdjosv61up3ac1ajeuq6qqu72upilmls.apps.googleusercontent.com\"/>\n",
              "<script src=\"https://apis.google.com/js/client:platform.js?onload=google_button_start\"></script>\n",
              "    "
            ],
            "text/plain": [
              "<IPython.core.display.HTML object>"
            ]
          },
          "metadata": {}
        },
        {
          "output_type": "execute_result",
          "data": {
            "text/html": [
              "<h3>See <a href='https://m5knaekxo6.execute-api.us-west-2.amazonaws.com/dev-v0001/rlxmooc/web/login' target='_blank'>my courses and progress</a></h2>"
            ],
            "text/plain": [
              "<IPython.core.display.HTML object>"
            ]
          },
          "metadata": {},
          "execution_count": 44
        }
      ]
    },
    {
      "cell_type": "code",
      "metadata": {
        "id": "NCa4g1nBv4Hd",
        "outputId": "0c062c27-275f-4473-af9f-40ec3a96a7e7",
        "colab": {
          "base_uri": "https://localhost:8080/",
          "height": 117,
          "referenced_widgets": [
            "17361548a36f4c8aafb61e24b379e2de",
            "9d55cd3998994d9cb4ca4b0a695a0a40",
            "a22c140fbc374850ab684dbaa53e15cc",
            "1b077294060d4273a1b5a74382f971ec",
            "128c8665fdbe4209aa363b633bcc88a4",
            "a907a3095500462f81942894eeeb338f",
            "a6939b684e26426aa7028fa7b9c023c7",
            "186a62e5b11b4b3e9384f6e0320c041e",
            "d32d306fe2bf42bdaf588df07c0eab26",
            "1e3577d2403e4c1fa47996c5206c6afa",
            "faa77ccb3ffc4fab9b981982a1c9a28e",
            "eb2ab7f2aeb347e2a832f0c3d9071d6a",
            "7b69556fa727438d93ed43ed22a31ce4",
            "1dff21949c0b4718b62afa1b9d7311a1",
            "73e6e51aa85846b4b155203e9a7dc310",
            "1a7a6993ddf04b6cab978abd16008cd3",
            "c8155cf1c132494980eee097a9a66fe3",
            "9fc473414d484e8aa32f06d1da20c913",
            "27a1e190d12c4f28abb2ee50e048f5b9"
          ]
        }
      },
      "source": [
        "from local.lib.rlxmoocapi import submit, session\n",
        "session.LoginSequence(endpoint=init.endpoint, course_id=init.course_id, lab_id=\"L02.01\", varname=\"student\");"
      ],
      "execution_count": 45,
      "outputs": [
        {
          "output_type": "stream",
          "name": "stdout",
          "text": [
            "logging in as gabriel.camargo@udea.edu.co... please wait\n",
            "you are not registered for any session in this course. login failed!!\n"
          ]
        }
      ]
    },
    {
      "cell_type": "code",
      "metadata": {
        "id": "g-Eweio4v4Hd"
      },
      "source": [
        ""
      ],
      "execution_count": null,
      "outputs": []
    },
    {
      "cell_type": "code",
      "metadata": {
        "id": "s-6HkSP5v4Hd"
      },
      "source": [
        "import numpy as np"
      ],
      "execution_count": 6,
      "outputs": []
    },
    {
      "cell_type": "markdown",
      "metadata": {
        "id": "WA7eEuhWv4Hd"
      },
      "source": [
        "## Task 1: Palindrome\n",
        "\n",
        "Determine whether an integer number $n$ is a palindrome, this is, if it is the same number when read left to right and when read right to left. Return `True` if so, otherwise return `False`.\n",
        "\n",
        "**Execution example**\n",
        "\n",
        "```python\n",
        ">>> palindromo(n=3456543)\n",
        "True\n",
        "\n",
        ">>> palindromo(n=543)\n",
        "False\n",
        "```\n",
        "\n",
        "**hint**: transform it into string, reverse it and check equality\n",
        "\n",
        "**challenge**: use one single line of code"
      ]
    },
    {
      "cell_type": "code",
      "metadata": {
        "id": "nlkDyaVhv4He"
      },
      "source": [
        "def palindromo(n): # assume n is an integer\n",
        "  return True if str(n) == str(n)[::-1] else False"
      ],
      "execution_count": 10,
      "outputs": []
    },
    {
      "cell_type": "markdown",
      "metadata": {
        "id": "xuZsOKbEv4He"
      },
      "source": [
        "check your code manually"
      ]
    },
    {
      "cell_type": "code",
      "metadata": {
        "id": "Nij4QOXGv4Hf",
        "outputId": "96435fb0-a99a-49f0-9081-5d0fa42fbfd0",
        "colab": {
          "base_uri": "https://localhost:8080/"
        }
      },
      "source": [
        "print (palindromo(12321))\n",
        "print (palindromo(12322))"
      ],
      "execution_count": 11,
      "outputs": [
        {
          "output_type": "stream",
          "name": "stdout",
          "text": [
            "True\n",
            "False\n"
          ]
        }
      ]
    },
    {
      "cell_type": "markdown",
      "metadata": {
        "id": "y1AbqY7Fv4Hf"
      },
      "source": [
        "**submit your code**"
      ]
    },
    {
      "cell_type": "code",
      "metadata": {
        "scrolled": true,
        "id": "xws4XSibv4Hf",
        "outputId": "4c5c3318-ae63-4cb0-ddcf-bcfc4a99a0c3",
        "colab": {
          "base_uri": "https://localhost:8080/",
          "height": 166
        }
      },
      "source": [
        "student.submit_task(globals(), task_id=\"task_01\");"
      ],
      "execution_count": 13,
      "outputs": [
        {
          "output_type": "error",
          "ename": "AttributeError",
          "evalue": "ignored",
          "traceback": [
            "\u001b[0;31m---------------------------------------------------------------------------\u001b[0m",
            "\u001b[0;31mAttributeError\u001b[0m                            Traceback (most recent call last)",
            "\u001b[0;32m<ipython-input-13-4cdaf622784a>\u001b[0m in \u001b[0;36m<module>\u001b[0;34m()\u001b[0m\n\u001b[0;32m----> 1\u001b[0;31m \u001b[0mstudent\u001b[0m\u001b[0;34m.\u001b[0m\u001b[0msubmit_task\u001b[0m\u001b[0;34m(\u001b[0m\u001b[0mglobals\u001b[0m\u001b[0;34m(\u001b[0m\u001b[0;34m)\u001b[0m\u001b[0;34m,\u001b[0m \u001b[0mtask_id\u001b[0m\u001b[0;34m=\u001b[0m\u001b[0;34m\"task_01\"\u001b[0m\u001b[0;34m)\u001b[0m\u001b[0;34m;\u001b[0m\u001b[0;34m\u001b[0m\u001b[0;34m\u001b[0m\u001b[0m\n\u001b[0m",
            "\u001b[0;31mAttributeError\u001b[0m: 'NoneType' object has no attribute 'submit_task'"
          ]
        }
      ]
    },
    {
      "cell_type": "markdown",
      "metadata": {
        "id": "Da_5q7hgv4Hg"
      },
      "source": [
        "## Task 2: Money Change\n",
        "\n",
        "En este ejercicio, su programa recibirá un monto entre 1 y 99 centavos de Dolar, Escriba un metodo que retorne en una lista, cuantas monedas son necesarias para devolverle a alguien dicho valor, si únicamente se cuenta con monedas de 1, 10 y 25 centavos. La lista debe entregarse de la siguiente manera:\n",
        "\n",
        "In this task your function will receive an amount between 1 and 99 cents and will have to return a list with three numbers [$n_1$, $n_{10}$, $n_{25}$], specifying how many coins of 1, 10 and 25 cents are required to obtain the given amonut. We only have coints of 1, 10 and 25 cents. There are no other kinds of coins.\n",
        "\n",
        "If the amount given is less than 1 or more than 99 you must return `None`.\n",
        "\n",
        "**Execution example**\n",
        "\n",
        "```python\n",
        ">>> change_money(n=55)\n",
        "[5,0,2]\n",
        "\n",
        ">>> change_money(n=200)\n",
        "None\n",
        "\n",
        ">>> change_money(n=47)\n",
        "[2,2,1]\n",
        "```\n",
        "\n",
        "**hint**: use `\\\\` for integer division\n"
      ]
    },
    {
      "cell_type": "code",
      "metadata": {
        "id": "wGZ7e0icv4Hg"
      },
      "source": [
        "\n",
        "def change_money(n):\n",
        "    r=[0,0,0] #recall: r[0]== n_1, r[1]== n_10 y r[2]== n_25 \n",
        "    if n>99 or n<1:\n",
        "      return None\n",
        "    cents = [25, 10, 1]\n",
        "    for i, x in enumerate(cents, 1):\n",
        "      r[len(cents)-i] = n // x\n",
        "      n = n - (x * (n // x))\n",
        "    return r"
      ],
      "execution_count": 40,
      "outputs": []
    },
    {
      "cell_type": "code",
      "metadata": {
        "id": "e0y8fqexx9ib",
        "outputId": "262baa23-42c7-4ef1-a786-c87367d7366d",
        "colab": {
          "base_uri": "https://localhost:8080/"
        }
      },
      "source": [
        "change_money(n=51)"
      ],
      "execution_count": 43,
      "outputs": [
        {
          "output_type": "execute_result",
          "data": {
            "text/plain": [
              "[1, 1, 1]"
            ]
          },
          "metadata": {},
          "execution_count": 43
        }
      ]
    },
    {
      "cell_type": "markdown",
      "metadata": {
        "id": "hCcDJretv4Hg"
      },
      "source": [
        "**submit your code**"
      ]
    },
    {
      "cell_type": "code",
      "metadata": {
        "scrolled": true,
        "id": "btneBausv4Hg",
        "outputId": "f79ab27f-0976-483c-ca03-6335151b0c7b",
        "colab": {
          "base_uri": "https://localhost:8080/",
          "height": 166
        }
      },
      "source": [
        "student.submit_task(globals(), task_id=\"task_02\");\n"
      ],
      "execution_count": 16,
      "outputs": [
        {
          "output_type": "error",
          "ename": "AttributeError",
          "evalue": "ignored",
          "traceback": [
            "\u001b[0;31m---------------------------------------------------------------------------\u001b[0m",
            "\u001b[0;31mAttributeError\u001b[0m                            Traceback (most recent call last)",
            "\u001b[0;32m<ipython-input-16-fde445fafb4e>\u001b[0m in \u001b[0;36m<module>\u001b[0;34m()\u001b[0m\n\u001b[0;32m----> 1\u001b[0;31m \u001b[0mstudent\u001b[0m\u001b[0;34m.\u001b[0m\u001b[0msubmit_task\u001b[0m\u001b[0;34m(\u001b[0m\u001b[0mglobals\u001b[0m\u001b[0;34m(\u001b[0m\u001b[0;34m)\u001b[0m\u001b[0;34m,\u001b[0m \u001b[0mtask_id\u001b[0m\u001b[0;34m=\u001b[0m\u001b[0;34m\"task_02\"\u001b[0m\u001b[0;34m)\u001b[0m\u001b[0;34m;\u001b[0m\u001b[0;34m\u001b[0m\u001b[0;34m\u001b[0m\u001b[0m\n\u001b[0m",
            "\u001b[0;31mAttributeError\u001b[0m: 'NoneType' object has no attribute 'submit_task'"
          ]
        }
      ]
    },
    {
      "cell_type": "markdown",
      "metadata": {
        "id": "T32PiDOSv4Hg"
      },
      "source": [
        "## Task 3: Fibonacci\n",
        "\n",
        "Complete the function below so that given an integer $n$ it computes the $n^{th}$ term of the Fibonacci series:\n",
        "\n",
        "$$ f_n = f_{n-1}+f_{n-2}$$ \n",
        "\n",
        "Where $$f_0=0 \\:\\:\\text{ y }\\:\\:f_1=1 $$ so that: $$f_2=1+0=1$$ $$f_3=1+1=2$$ $$f_4=2+1=3$$ and so on\n",
        "\n",
        "### Execution example \n",
        "```python\n",
        "\n",
        ">>> fibonacci(10)\n",
        "55\n",
        "\n",
        ">>> fibonacci(36)\n",
        "14930352\n",
        "```"
      ]
    },
    {
      "cell_type": "code",
      "metadata": {
        "id": "m3_4K_dKv4Hh"
      },
      "source": [
        "def fibonacci(n):\n",
        "    f_1=1\n",
        "    f_2=1\n",
        "    suma=0\n",
        "    \n",
        "    # tu codigo aqui\n",
        "    \n",
        "    return suma"
      ],
      "execution_count": null,
      "outputs": []
    },
    {
      "cell_type": "markdown",
      "metadata": {
        "id": "YEWI5t8cv4Hh"
      },
      "source": [
        "**check manually your code**"
      ]
    },
    {
      "cell_type": "code",
      "metadata": {
        "id": "yjIDqVqmv4Hh"
      },
      "source": [
        "fibonacci(10), fibonacci(36)"
      ],
      "execution_count": null,
      "outputs": []
    },
    {
      "cell_type": "markdown",
      "metadata": {
        "id": "lUJt3861v4Hh"
      },
      "source": [
        "**submit your code**"
      ]
    },
    {
      "cell_type": "code",
      "metadata": {
        "scrolled": true,
        "id": "edWxx5rTv4Hh"
      },
      "source": [
        "student.submit_task(globals(), task_id=\"task_03\");"
      ],
      "execution_count": null,
      "outputs": []
    },
    {
      "cell_type": "markdown",
      "metadata": {
        "id": "IyLnNL0Uv4Hh"
      },
      "source": [
        "## Task 4: Perfect number\n",
        "\n",
        "complete the following function so that it accepts an integer $n$ and returns `True` if $n$ is a perfect number and `False` otherwise.\n",
        "\n",
        "A perfect number is a positive integer that is equal to the sum of its positive divisors, excluding the number itself. For instance $6=3+2+1$ \n",
        "\n",
        "See https://en.wikipedia.org/wiki/Perfect_number\n",
        "\n",
        "**Execution example**\n",
        "```python\n",
        ">>> perfecto(6)\n",
        "True\n",
        "\n",
        ">>> perfecto(51)\n",
        "False\n",
        "\n",
        ">>> perfecto(496)\n",
        "True\n",
        "```\n",
        "**hint**: make a loop of all numbers up to $n$ and use the modulus operator `%` to identify which are the divisors, then sum them up.\n",
        "\n"
      ]
    },
    {
      "cell_type": "code",
      "metadata": {
        "id": "NU3RdeTHv4Hh"
      },
      "source": [
        "n = 12\n",
        "n%2, n%3, n%4, n%5, n%6, n%7, n%8"
      ],
      "execution_count": null,
      "outputs": []
    },
    {
      "cell_type": "code",
      "metadata": {
        "id": "9-gNjIAyv4Hi"
      },
      "source": [
        "\n",
        "def perfecto(n):\n",
        "    #tu codigo aqui, pista:\n",
        "    # halle todos los divisores de n y sumelos en una variable auxiliar,\n",
        "    #compare este resultado con el valor original"
      ],
      "execution_count": null,
      "outputs": []
    },
    {
      "cell_type": "markdown",
      "metadata": {
        "id": "4ZefN9w6v4Hi"
      },
      "source": [
        "**check your answer**"
      ]
    },
    {
      "cell_type": "code",
      "metadata": {
        "id": "mYeZ5JP7v4Hi"
      },
      "source": [
        "perfecto(6), perfecto(51), perfecto(496)\n"
      ],
      "execution_count": null,
      "outputs": []
    },
    {
      "cell_type": "code",
      "metadata": {
        "id": "2pX6HaBdv4Hi"
      },
      "source": [
        ""
      ],
      "execution_count": null,
      "outputs": []
    },
    {
      "cell_type": "markdown",
      "metadata": {
        "id": "SdQjNqzNv4Hi"
      },
      "source": [
        "**submit your code**"
      ]
    },
    {
      "cell_type": "code",
      "metadata": {
        "scrolled": true,
        "id": "Pkn2e2bxv4Hi"
      },
      "source": [
        "student.submit_task(globals(), task_id=\"task_04\");"
      ],
      "execution_count": null,
      "outputs": []
    },
    {
      "cell_type": "code",
      "metadata": {
        "id": "qJWBgjxSv4Hi"
      },
      "source": [
        ""
      ],
      "execution_count": null,
      "outputs": []
    }
  ]
}